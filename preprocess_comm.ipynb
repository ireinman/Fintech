{
 "cells": [
  {
   "cell_type": "code",
   "execution_count": 1,
   "metadata": {},
   "outputs": [],
   "source": [
    "import os\n",
    "import pandas as pd"
   ]
  },
  {
   "cell_type": "code",
   "execution_count": 2,
   "metadata": {},
   "outputs": [],
   "source": [
    "BASE_DATA = 'data'\n",
    "PREPROCESSED_DATA = 'preprocessed_data'\n",
    "\n",
    "MOTHES = ['Mar', 'May', 'Jul', 'Sep']"
   ]
  },
  {
   "cell_type": "code",
   "execution_count": 3,
   "metadata": {},
   "outputs": [],
   "source": [
    "for filename in os.listdir(BASE_DATA):\n",
    "    if not filename.startswith(\"Futures prices\"):\n",
    "        continue\n",
    "    df = pd.read_excel(os.path.join(BASE_DATA, filename))\n",
    "    df['Date'] = pd.to_datetime(df['Date'], format='%d %b %Y')  # FIXME\n",
    "    columns = df.columns\n",
    "    \n",
    "    comodadity = filename.split()[4]  # FIXME\n",
    "    if not os.path.exists(f\"{PREPROCESSED_DATA}/{comodadity}\"):\n",
    "        os.makedirs(f\"{PREPROCESSED_DATA}/{comodadity}\")\n",
    "        \n",
    "    first_year = df['Date'].dt.year.min()\n",
    "    last_year = df['Date'].dt.year.max()\n",
    "    \n",
    "    for year in range(first_year, last_year + 1):\n",
    "        year_df = df[df['Date'].dt.year == year]\n",
    "        rel_columns =  [col + ' ' + str(year + 1) for col in MOTHES]\n",
    "        year_df = year_df[['Date'] + rel_columns]\n",
    "        \n",
    "        # column with the data diffrence between the current date and the previous date, the first has diff = 0\n",
    "        year_df['diff'] = year_df['Date'].diff().dt.days.fillna(1).astype(int)\n",
    "        \n",
    "        year_df.to_csv(f\"{PREPROCESSED_DATA}/{comodadity}/{comodadity}_{year}.csv\", index=False)\n",
    "        \n",
    "        # check if there are missing data\n",
    "        assert year_df.isna().sum().sum() == 0, f\"Missing data in {comodadity}_{year}\"\n",
    "        "
   ]
  }
 ],
 "metadata": {
  "kernelspec": {
   "display_name": "Python 3",
   "language": "python",
   "name": "python3"
  },
  "language_info": {
   "codemirror_mode": {
    "name": "ipython",
    "version": 3
   },
   "file_extension": ".py",
   "mimetype": "text/x-python",
   "name": "python",
   "nbconvert_exporter": "python",
   "pygments_lexer": "ipython3",
   "version": "3.12.0"
  }
 },
 "nbformat": 4,
 "nbformat_minor": 2
}
