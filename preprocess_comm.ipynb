{
 "cells": [
  {
   "cell_type": "code",
   "execution_count": 11,
   "metadata": {},
   "outputs": [],
   "source": [
    "import os\n",
    "import pandas as pd"
   ]
  },
  {
   "cell_type": "code",
   "execution_count": 12,
   "metadata": {},
   "outputs": [],
   "source": [
    "BASE_DATA = 'data'\n",
    "PROCESSED_DATA = 'processed_data'\n",
    "\n",
    "MOTHES = ['Mar', 'May', 'Jul', 'Sep']"
   ]
  },
  {
   "cell_type": "code",
   "execution_count": 13,
   "metadata": {},
   "outputs": [],
   "source": [
    "for filename in os.listdir(BASE_DATA):\n",
    "    if not filename.startswith(\"Futures prices\"):\n",
    "        continue\n",
    "    df = pd.read_excel(os.path.join(BASE_DATA, filename))\n",
    "    df['Date'] = pd.to_datetime(df['Date'], format='%d %b %Y')\n",
    "    columns = df.columns\n",
    "    \n",
    "    comodadity = filename.split()[4]\n",
    "    if not os.path.exists(f\"{PROCESSED_DATA}/{comodadity}\"):\n",
    "        os.makedirs(f\"{PROCESSED_DATA}/{comodadity}\")\n",
    "        \n",
    "    first_year = df['Date'].dt.year.min()\n",
    "    last_year = df['Date'].dt.year.max()\n",
    "    \n",
    "    for year in range(first_year, last_year + 1):\n",
    "        year_df = df[df['Date'].dt.year == year]\n",
    "        rel_columns =  [col + ' ' + str(year + 1) for col in MOTHES]\n",
    "        year_df = year_df[['Date'] + rel_columns]\n",
    "        \n",
    "        # column with the data diffrence between the current date and the previous date, the first has diff = 0\n",
    "        year_df['diff'] = year_df['Date'].diff().dt.days.fillna(1).astype(int)\n",
    "        \n",
    "        year_df.to_csv(f\"{PROCESSED_DATA}/{comodadity}/{comodadity}_{year}.csv\", index=False)\n",
    "        \n",
    "        # check if there are missing data\n",
    "        assert year_df.isna().sum().sum() == 0, f\"Missing data in {comodadity}_{year}\"\n",
    "        "
   ]
  },
  {
   "cell_type": "code",
   "execution_count": 14,
   "metadata": {},
   "outputs": [],
   "source": [
    "# create full dataset for each comodadity with prime\n",
    "prime_df = pd.read_csv(os.path.join(PROCESSED_DATA, 'Prime.csv'))\n",
    "prime_df\n",
    "for filename in os.listdir(PROCESSED_DATA):\n",
    "    if not os.path.isdir(os.path.join(PROCESSED_DATA, filename)):\n",
    "        continue\n",
    "    comodadity = filename\n",
    "    df = pd.DataFrame()\n",
    "    path = os.path.join(PROCESSED_DATA, comodadity)\n",
    "    files = os.listdir(path)\n",
    "    for file in files:\n",
    "        year = file.split('_')[1].split('.')[0]\n",
    "        temp_df = pd.read_csv(os.path.join(path, file))\n",
    "        col_year = str(int(year) + 1)\n",
    "        for col in temp_df.columns:\n",
    "            if col_year in col:\n",
    "                new_name = col.split(' ')[0]\n",
    "                temp_df.rename(columns={col: new_name}, inplace=True)\n",
    "        df = pd.concat([df, temp_df], axis=0)\n",
    "    df = df.merge(prime_df, on='Date', how='left')\n",
    "    df['Date'] = pd.to_datetime(df['Date'])\n",
    "    df['diff'] = df['Date'].diff().dt.days.fillna(1).astype(int)\n",
    "    df.to_csv(f\"{PROCESSED_DATA}/full_{comodadity}.csv\", index=False)"
   ]
  },
  {
   "cell_type": "code",
   "execution_count": 17,
   "metadata": {},
   "outputs": [],
   "source": [
    "# after we created full dataset for each comodadity we can create a full dataset for all comodadities\n",
    "full_df = pd.DataFrame()\n",
    "for i, filename in enumerate(os.listdir(PROCESSED_DATA)):\n",
    "    if not filename.startswith('full_'):\n",
    "        continue\n",
    "    temp_df = pd.read_csv(os.path.join(PROCESSED_DATA, filename))\n",
    "    temp_df.drop(columns=['diff'], inplace=True)\n",
    "    for col in temp_df.columns:\n",
    "        if col in ['Date', 'Prime']:\n",
    "            continue\n",
    "        new_name = filename.split('_')[1].split('.')[0] + ' ' + col\n",
    "        temp_df.rename(columns={col: new_name}, inplace=True)\n",
    "    if i == 0:\n",
    "        full_df = temp_df\n",
    "    else:\n",
    "        temp_df.drop(columns=['Prime'], inplace=True)\n",
    "        full_df = pd.merge(full_df, temp_df, on='Date', how='inner')\n",
    "full_df['Date'] = pd.to_datetime(full_df['Date'])\n",
    "full_df['diff'] = full_df['Date'].diff().dt.days.fillna(1).astype(int)\n",
    "\n",
    "prime_col = full_df['Prime']\n",
    "full_df.drop(columns=['Prime'], inplace=True)\n",
    "full_df['Prime'] = prime_col\n",
    "full_df.to_csv(f\"{PROCESSED_DATA}/full_dataset.csv\", index=False)"
   ]
  },
  {
   "cell_type": "code",
   "execution_count": 19,
   "metadata": {},
   "outputs": [],
   "source": [
    "# check no missing data\n",
    "files = list(os.listdir(PROCESSED_DATA))\n",
    "while files:\n",
    "    file = files.pop()\n",
    "    if os.path.isdir(os.path.join(PROCESSED_DATA, file)):\n",
    "        add_files = os.listdir(os.path.join(PROCESSED_DATA, file))\n",
    "        add_files = [os.path.join(file, add_file) for add_file in add_files]\n",
    "        files += add_files\n",
    "    else:\n",
    "        # print(f\"Checking {file}\")\n",
    "        df = pd.read_csv(os.path.join(PROCESSED_DATA, file))\n",
    "        assert df.isna().sum().sum() == 0, f\"Missing data in {file}\""
   ]
  }
 ],
 "metadata": {
  "kernelspec": {
   "display_name": "Python 3",
   "language": "python",
   "name": "python3"
  },
  "language_info": {
   "codemirror_mode": {
    "name": "ipython",
    "version": 3
   },
   "file_extension": ".py",
   "mimetype": "text/x-python",
   "name": "python",
   "nbconvert_exporter": "python",
   "pygments_lexer": "ipython3",
   "version": "3.12.0"
  }
 },
 "nbformat": 4,
 "nbformat_minor": 2
}
