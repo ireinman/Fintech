{
 "cells": [
  {
   "cell_type": "code",
   "execution_count": 1,
   "metadata": {},
   "outputs": [],
   "source": [
    "import pandas as pd"
   ]
  },
  {
   "cell_type": "code",
   "execution_count": null,
   "metadata": {},
   "outputs": [],
   "source": [
    "BASE_DATA = 'data'\n",
    "PREPROCESSED_DATA = 'processed_data'"
   ]
  },
  {
   "cell_type": "code",
   "execution_count": 2,
   "metadata": {},
   "outputs": [
    {
     "name": "stdout",
     "output_type": "stream",
     "text": [
      "0      2055-08-04\n",
      "1      2055-10-14\n",
      "2      2056-04-13\n",
      "3      2056-08-21\n",
      "4      2057-08-06\n",
      "          ...    \n",
      "353    2022-12-15\n",
      "354    2023-02-02\n",
      "355    2023-03-23\n",
      "356    2023-05-04\n",
      "357    2023-07-27\n",
      "Name: DATE, Length: 358, dtype: object\n"
     ]
    }
   ],
   "source": [
    "df = pd.read_csv(rf'{BASE_DATA}/PRIME.csv')\n",
    "\n",
    "df['DATE'] = pd.to_datetime(df['DATE'], format='%d-%m-%y')\n",
    "print(df['DATE'].dt.strftime('%Y-%m-%d'))"
   ]
  },
  {
   "cell_type": "code",
   "execution_count": 3,
   "metadata": {},
   "outputs": [],
   "source": [
    "df.set_index('DATE', inplace=True)\n",
    "df = df[df.index.year >= 2017]\n",
    "df = df[df.index.year <= 2024]"
   ]
  },
  {
   "cell_type": "code",
   "execution_count": 4,
   "metadata": {},
   "outputs": [
    {
     "name": "stdout",
     "output_type": "stream",
     "text": [
      "DatetimeIndex(['2017-03-16', '2017-03-17', '2017-03-18', '2017-03-19',\n",
      "               '2017-03-20', '2017-03-21', '2017-03-22', '2017-03-23',\n",
      "               '2017-03-24', '2017-03-25',\n",
      "               ...\n",
      "               '2025-07-18', '2025-07-19', '2025-07-20', '2025-07-21',\n",
      "               '2025-07-22', '2025-07-23', '2025-07-24', '2025-07-25',\n",
      "               '2025-07-26', '2025-07-27'],\n",
      "              dtype='datetime64[ns]', length=3056, freq='D')\n"
     ]
    }
   ],
   "source": [
    "end = df.index.max() + pd.DateOffset(years=2)\n",
    "full_index = pd.date_range(start=df.index.min(), end=end, freq='D')\n",
    "print(full_index)"
   ]
  },
  {
   "cell_type": "code",
   "execution_count": 5,
   "metadata": {},
   "outputs": [
    {
     "name": "stdout",
     "output_type": "stream",
     "text": [
      "           DATE  PRIME\n",
      "291  2018-01-01    4.5\n",
      "292  2018-01-02    4.5\n",
      "293  2018-01-03    4.5\n",
      "294  2018-01-04    4.5\n",
      "295  2018-01-05    4.5\n",
      "...         ...    ...\n",
      "2843 2024-12-27    8.5\n",
      "2844 2024-12-28    8.5\n",
      "2845 2024-12-29    8.5\n",
      "2846 2024-12-30    8.5\n",
      "2847 2024-12-31    8.5\n",
      "\n",
      "[2557 rows x 2 columns]\n"
     ]
    }
   ],
   "source": [
    "df = df.reindex(full_index, method='ffill')\n",
    "\n",
    "df.reset_index(inplace=True)\n",
    "df.rename(columns={'index': 'DATE'}, inplace=True)\n",
    "df = df[df['DATE'].dt.year >= 2018]\n",
    "df = df[df['DATE'].dt.year <= 2024]\n",
    "print(df)"
   ]
  },
  {
   "cell_type": "code",
   "execution_count": 6,
   "metadata": {},
   "outputs": [],
   "source": [
    "# save to csv\n",
    "df.rename(columns={'DATE': 'Date', 'PRIME': 'Prime'}, inplace=True)\n",
    "df.to_csv('Prime.csv', index=False)"
   ]
  }
 ],
 "metadata": {
  "kernelspec": {
   "display_name": ".venv",
   "language": "python",
   "name": "python3"
  },
  "language_info": {
   "codemirror_mode": {
    "name": "ipython",
    "version": 3
   },
   "file_extension": ".py",
   "mimetype": "text/x-python",
   "name": "python",
   "nbconvert_exporter": "python",
   "pygments_lexer": "ipython3",
   "version": "3.12.0"
  }
 },
 "nbformat": 4,
 "nbformat_minor": 2
}
