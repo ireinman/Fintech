{
 "cells": [
  {
   "cell_type": "code",
   "execution_count": 1,
   "metadata": {},
   "outputs": [],
   "source": [
    "import pandas as pd"
   ]
  },
  {
   "cell_type": "code",
   "execution_count": 2,
   "metadata": {},
   "outputs": [],
   "source": [
    "BASE_DATA = 'data'\n",
    "PREPROCESSED_DATA = 'processed_data'"
   ]
  },
  {
   "cell_type": "code",
   "execution_count": null,
   "metadata": {},
   "outputs": [],
   "source": [
    "df = pd.read_csv(rf'{BASE_DATA}/PRIME.csv')\n",
    "\n",
    "df['DATE'] = pd.to_datetime(df['DATE'], format='%d-%m-%y')\n",
    "# print(df['DATE'].dt.strftime('%Y-%m-%d'))"
   ]
  },
  {
   "cell_type": "markdown",
   "metadata": {},
   "source": [
    "We take the PRIME in the relevant yeras and add some safety margin at the edges for the next steps."
   ]
  },
  {
   "cell_type": "code",
   "execution_count": 4,
   "metadata": {},
   "outputs": [],
   "source": [
    "df.set_index('DATE', inplace=True)\n",
    "df = df[df.index.year >= 2017]\n",
    "df = df[df.index.year <= 2024]"
   ]
  },
  {
   "cell_type": "code",
   "execution_count": null,
   "metadata": {},
   "outputs": [],
   "source": [
    "end = df.index.max() + pd.DateOffset(years=2)\n",
    "full_index = pd.date_range(start=df.index.min(), end=end, freq='D')\n",
    "# print(full_index)"
   ]
  },
  {
   "cell_type": "markdown",
   "metadata": {},
   "source": [
    "In the current situation, there is a value only on each date when the interest rate changed, therefore we complete the interest values ​​for the entire date range."
   ]
  },
  {
   "cell_type": "code",
   "execution_count": 6,
   "metadata": {},
   "outputs": [
    {
     "name": "stdout",
     "output_type": "stream",
     "text": [
      "           DATE  PRIME\n",
      "291  2018-01-01    4.5\n",
      "292  2018-01-02    4.5\n",
      "293  2018-01-03    4.5\n",
      "294  2018-01-04    4.5\n",
      "295  2018-01-05    4.5\n",
      "...         ...    ...\n",
      "2843 2024-12-27    8.5\n",
      "2844 2024-12-28    8.5\n",
      "2845 2024-12-29    8.5\n",
      "2846 2024-12-30    8.5\n",
      "2847 2024-12-31    8.5\n",
      "\n",
      "[2557 rows x 2 columns]\n"
     ]
    }
   ],
   "source": [
    "df = df.reindex(full_index, method='ffill')\n",
    "\n",
    "df.reset_index(inplace=True)\n",
    "df.rename(columns={'index': 'DATE'}, inplace=True)\n",
    "df = df[df['DATE'].dt.year >= 2018]\n",
    "df = df[df['DATE'].dt.year <= 2024]\n",
    "print(df)"
   ]
  },
  {
   "cell_type": "markdown",
   "metadata": {},
   "source": [
    "We rename the columns to make it easier to work with them, and save the data in the processed data folder."
   ]
  },
  {
   "cell_type": "code",
   "execution_count": 9,
   "metadata": {},
   "outputs": [],
   "source": [
    "# save to csv\n",
    "df.rename(columns={'DATE': 'Date', 'PRIME': 'Prime'}, inplace=True)\n",
    "df.to_csv(fr'{PREPROCESSED_DATA}/Prime.csv', index=False)"
   ]
  }
 ],
 "metadata": {
  "kernelspec": {
   "display_name": ".venv",
   "language": "python",
   "name": "python3"
  },
  "language_info": {
   "codemirror_mode": {
    "name": "ipython",
    "version": 3
   },
   "file_extension": ".py",
   "mimetype": "text/x-python",
   "name": "python",
   "nbconvert_exporter": "python",
   "pygments_lexer": "ipython3",
   "version": "3.12.0"
  }
 },
 "nbformat": 4,
 "nbformat_minor": 2
}
