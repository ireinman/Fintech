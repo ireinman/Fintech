{
 "cells": [
  {
   "cell_type": "markdown",
   "metadata": {},
   "source": [
    "# Sharpe Ratio"
   ]
  },
  {
   "cell_type": "code",
   "execution_count": 4,
   "metadata": {},
   "outputs": [],
   "source": [
    "import pandas as pd\n",
    "import yfinance as yf  # Yahoo Finance\n",
    "\n",
    "from statsmodels.graphics import tsaplots\n",
    "from statsmodels.tsa.statespace.sarimax import SARIMAX\n",
    "from calendar import monthrange\n",
    "from statsmodels.tsa.seasonal import seasonal_decompose\n",
    "import matplotlib.dates as mdates"
   ]
  },
  {
   "cell_type": "markdown",
   "metadata": {},
   "source": [
    "In this notebook, we will be attempting to predict the sharpe ratio of several commodity futures. All data in this notebook was collected via Yahoo Finance's API. We will predict the sharpe ratio using the futures with the nearest expiration dates, specifically:\n",
    "\n",
    "1. Corn Futures (ZC=F), daily close values.\n",
    "2. Soybean Futures (ZS=F), daily close values.\n",
    "3. Wheat Futures (ZW=F), daily close values.\n",
    "4. Oats Futures (ZO=F), daily close values.\n",
    "5. Rice Futures (ZR=F), daily close values."
   ]
  },
  {
   "cell_type": "markdown",
   "metadata": {},
   "source": [
    "We start by retrieving information of the risk-free stock, which in this case we chose to be ^IRX (13 WEEK USA TREASURY BILL). All values used will be CLOSE values. The data collected is of the last 10 years."
   ]
  },
  {
   "cell_type": "code",
   "execution_count": 5,
   "metadata": {},
   "outputs": [],
   "source": [
    "rf = yf.Ticker('^IRX')\n",
    "rf = rf.history(period='10y')\n",
    "rf['Datetime'] = rf.index\n",
    "rf.reset_index(drop=True, inplace=True)\n",
    "rf['Date'] = rf['Datetime'].dt.date\n",
    "rf['Return'] = rf['Close'].pct_change()"
   ]
  },
  {
   "cell_type": "markdown",
   "metadata": {},
   "source": [
    "Next, we retrieve data from the last 10 years of all commodity prices, those listed above."
   ]
  },
  {
   "cell_type": "code",
   "execution_count": 6,
   "metadata": {},
   "outputs": [],
   "source": [
    "products = {'Corn': 'ZC', \n",
    "            'Soybean': 'ZS', \n",
    "            'Wheat': 'ZW', \n",
    "            'Oats': 'ZO',\n",
    "            'Rice': 'ZR',}\n",
    "\n",
    "df_futures = pd.DataFrame()\n",
    "\n",
    "for product in products:\n",
    "    value = f'{products[product]}=F'\n",
    "    futures = yf.Ticker(value)\n",
    "    futures = futures.history(period='10y')\n",
    "    df_futures[product] = futures['Close']\n",
    "\n",
    "\n",
    "df_futures['Datetime'] = df_futures.index\n",
    "df_futures.reset_index(drop=True, inplace=True)\n",
    "df_futures['Date'] = df_futures['Datetime'].dt.date"
   ]
  },
  {
   "cell_type": "code",
   "execution_count": 7,
   "metadata": {},
   "outputs": [],
   "source": [
    "df_futures = df_futures.merge(rf[['Date', 'Return']], on='Date', how='left')\n",
    "df_futures.rename(columns={'Return': 'rf'}, inplace=True)\n",
    "df_futures.dropna(inplace=True)"
   ]
  },
  {
   "cell_type": "code",
   "execution_count": 8,
   "metadata": {},
   "outputs": [],
   "source": [
    "# compute sharp ratio for each product in each year\n",
    "sharp_ratios = {}\n",
    "\n",
    "for product in products:\n",
    "    df_futures[f'{product}_return'] = df_futures[product].pct_change()\n",
    "    df_futures[f'{product}_excess_return'] = df_futures[f'{product}_return'] - df_futures['rf']\n",
    "    # compute sharp ratio for each year\n",
    "    sharp_ratios[product] = {}\n",
    "    for year in range(2015, 2024):  # only data with full years\n",
    "        df_year = df_futures[df_futures['Datetime'].dt.year == year]\n",
    "        sharp_ratio = df_year[f'{product}_excess_return'].mean() / df_year[f'{product}_excess_return'].std()\n",
    "        annualized_sharp_ratio = sharp_ratio * (252 ** 0.5)\n",
    "        sharp_ratios[product][year] = annualized_sharp_ratio"
   ]
  },
  {
   "cell_type": "code",
   "execution_count": 9,
   "metadata": {},
   "outputs": [
    {
     "name": "stdout",
     "output_type": "stream",
     "text": [
      "Yearly Sharpe Ratio For Each Product (Compared to Risk Free Rate based on 3 month treasury bill)\n",
      "Corn\n",
      "2015: -3.516223306507166\n",
      "2016: -1.5182527232324277\n",
      "2017: -2.5845775702995333\n",
      "2018: -2.009376223124832\n",
      "2019: 1.5892028677142187\n",
      "2020: 0.8983246753264268\n",
      "2021: -1.6436277598048479\n",
      "2022: -4.089507339183072\n",
      "2023: -1.4898806199016659\n",
      "\n",
      "\n",
      "Soybean\n",
      "2015: -3.5201592379326403\n",
      "2016: -1.4218516399728134\n",
      "2017: -2.8824237500066787\n",
      "2018: -2.582910395311469\n",
      "2019: 2.0762783979388844\n",
      "2020: 0.907946186479025\n",
      "2021: -1.6988795737068176\n",
      "2022: -4.132094534726096\n",
      "2023: -1.425328178618341\n",
      "\n",
      "\n",
      "Wheat\n",
      "2015: -3.5275869118301646\n",
      "2016: -1.5826164412083972\n",
      "2017: -2.319385587736925\n",
      "2018: -1.0216839535654743\n",
      "2019: 1.6805147756263659\n",
      "2020: 0.888736476398857\n",
      "2021: -1.6542403842362274\n",
      "2022: -3.912465303827852\n",
      "2023: -0.9546497207081237\n",
      "\n",
      "\n",
      "Oats\n",
      "2015: -3.5265680509925614\n",
      "2016: -1.4102311447449825\n",
      "2017: -1.9893911971200078\n",
      "2018: -1.074511413146682\n",
      "2019: 1.4210761014474496\n",
      "2020: 0.8998392008061844\n",
      "2021: -1.5736345159908545\n",
      "2022: -4.374044838675102\n",
      "2023: -0.2650507623284711\n",
      "\n",
      "\n",
      "Rice\n",
      "2015: -3.5093147905957736\n",
      "2016: -1.6677992125186558\n",
      "2017: -1.988088559855168\n",
      "2018: -2.4732682628585336\n",
      "2019: 2.8756738286522006\n",
      "2020: 0.8837700335153037\n",
      "2021: -1.6746505126943114\n",
      "2022: -4.068004895306731\n",
      "2023: -0.7016241695602621\n",
      "\n",
      "\n"
     ]
    }
   ],
   "source": [
    "print('Yearly Sharpe Ratio For Each Product (Compared to Risk Free Rate based on 3 month treasury bill)')\n",
    "for product in sharp_ratios:\n",
    "    print(product)\n",
    "    for year in sharp_ratios[product]:\n",
    "        print(f'{year}: {sharp_ratios[product][year]}')\n",
    "    print('\\n')"
   ]
  },
  {
   "cell_type": "markdown",
   "metadata": {},
   "source": [
    "Now, we will compute the sharpe ratio on a bi-weekly basis, making it so that we will have more sharpe ratios that we can train a model on."
   ]
  },
  {
   "cell_type": "code",
   "execution_count": 16,
   "metadata": {},
   "outputs": [
    {
     "data": {
      "text/plain": [
       "0                                                         NaN\n",
       "14                                                  -0.437452\n",
       "28                                                   -1.20049\n",
       "42                                                  -0.915325\n",
       "56                                                  -1.037723\n",
       "                                  ...                        \n",
       "2464                                                -1.055531\n",
       "2478                                                -0.795784\n",
       "2492                                                 0.008086\n",
       "2506                                                 1.113153\n",
       "Datetime    0      2014-09-18 00:00:00-04:00\n",
       "1      2014-0...\n",
       "Name: Corn_excess_return, Length: 181, dtype: object"
      ]
     },
     "execution_count": 16,
     "metadata": {},
     "output_type": "execute_result"
    }
   ],
   "source": [
    "WINDOW_SIZE = 14\n",
    "\n",
    "normalized_sharpe_ratios = {}\n",
    "\n",
    "for product in products:\n",
    "    df_futures[f'{product}_return'] = df_futures[product].pct_change()\n",
    "    df_futures[f'{product}_excess_return'] = df_futures[f'{product}_return'] - df_futures['rf']\n",
    "    rolling_mean = df_futures[f'{product}_excess_return'].rolling(window=WINDOW_SIZE, step=WINDOW_SIZE).mean()\n",
    "    rolling_std = df_futures[f'{product}_excess_return'].rolling(window=WINDOW_SIZE, step=WINDOW_SIZE).std()\n",
    "    normalized_sharpe_ratios[product] = rolling_mean / rolling_std * (WINDOW_SIZE ** 0.5)\n",
    "    # add column of date\n",
    "    normalized_sharpe_ratios[product]['Datetime'] = df_futures['Datetime']\n",
    "\n",
    "# plot normalized sharp ratio\n",
    "import matplotlib.pyplot as plt\n",
    "import matplotlib.dates as mdates\n",
    "\n",
    "\n",
    "normalized_sharpe_ratios['Corn']\n",
    "\n",
    "# # plot normalized sharp ratio in 4 subplots\n",
    "# fig, axs = plt.subplots(5, 1, figsize=(10, 10))\n",
    "# fig.suptitle('Normalized Sharpe Ratios for Corn, Soybean, Wheat, and Oats')\n",
    "# for i, product in enumerate(products):\n",
    "#     axs[i].plot(df_futures['Datetime'], normalized_sharpe_ratios[product], label=product)\n",
    "#     axs[i].xaxis.set_major_locator(mdates.YearLocator())\n",
    "#     axs[i].xaxis.set_major_formatter(mdates.DateFormatter('%Y'))\n",
    "#     axs[i].set_title(product)\n",
    "#     axs[i].legend()\n",
    "#     axs[i].grid()\n",
    "# plt.tight_layout()\n",
    "# plt.show()\n",
    "\n",
    "\n",
    "# (normalized_sharpe_ratios['Corn'].dropna() - normalized_sharpe_ratios['Soybean'].dropna()).mean()\n"
   ]
  },
  {
   "cell_type": "code",
   "execution_count": 69,
   "metadata": {},
   "outputs": [
    {
     "data": {
      "image/png": "[encoded data removed]",
      "text/plain": [
       "<Figure size 1000x500 with 1 Axes>"
      ]
     },
     "metadata": {},
     "output_type": "display_data"
    }
   ],
   "source": [
    "# plot normalzied sharp artio for tesla\n",
    "\n",
    "tesla = yf.Ticker('TSLA')\n",
    "tesla = tesla.history(period='10y')\n",
    "tesla['Return'] = tesla['Close'].pct_change()\n",
    "tesla['Datetime'] = tesla.index\n",
    "tesla.reset_index(drop=True, inplace=True)\n",
    "tesla['Date'] = tesla['Datetime'].dt.date\n",
    "tesla['rf'] = rf['Close'].pct_change()\n",
    "tesla['excess_return'] = tesla['Return'] - tesla['rf']\n",
    "tesla['rolling_mean'] = tesla['excess_return'].rolling(window=WINDOW_SIZE).mean()\n",
    "tesla['rolling_std'] = tesla['excess_return'].rolling(window=WINDOW_SIZE).std()\n",
    "tesla['normalized_sharp_ratio'] = tesla['rolling_mean'] / tesla['rolling_std'] * (WINDOW_SIZE ** 0.5)\n",
    "\n",
    "plt.figure(figsize=(10, 5))\n",
    "plt.plot(tesla['Datetime'], tesla['normalized_sharp_ratio'], label='Tesla')\n",
    "plt.title('Normalized Sharp Ratio for Tesla')\n",
    "plt.legend()\n",
    "plt.grid()\n",
    "plt.show()\n"
   ]
  },
  {
   "cell_type": "code",
   "execution_count": null,
   "metadata": {},
   "outputs": [],
   "source": []
  }
 ],
 "metadata": {
  "kernelspec": {
   "display_name": "Python 3",
   "language": "python",
   "name": "python3"
  },
  "language_info": {
   "codemirror_mode": {
    "name": "ipython",
    "version": 3
   },
   "file_extension": ".py",
   "mimetype": "text/x-python",
   "name": "python",
   "nbconvert_exporter": "python",
   "pygments_lexer": "ipython3",
   "version": "3.10.0"
  }
 },
 "nbformat": 4,
 "nbformat_minor": 2
}
