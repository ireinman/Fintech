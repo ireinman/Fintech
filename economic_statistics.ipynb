{
 "cells": [
  {
   "cell_type": "markdown",
   "metadata": {},
   "source": [
    "# Computing statistics that can assist in creating an investment portfolio"
   ]
  },
  {
   "cell_type": "markdown",
   "metadata": {},
   "source": [
    "We are interested in creating a 1-year portfolio as these futures expire within the near future and can't be held for too long."
   ]
  },
  {
   "cell_type": "code",
   "execution_count": 29,
   "metadata": {},
   "outputs": [],
   "source": [
    "import numpy as np\n",
    "import pandas as pd\n",
    "import yfinance as yf"
   ]
  },
  {
   "cell_type": "code",
   "execution_count": 30,
   "metadata": {},
   "outputs": [],
   "source": [
    "PATH = 'processed_data/full_dataset.csv'"
   ]
  },
  {
   "cell_type": "code",
   "execution_count": 31,
   "metadata": {},
   "outputs": [],
   "source": [
    "risk_free_stock = yf.Ticker('^IRX')\n",
    "risk_free_stock = risk_free_stock.history(period='5y')\n",
    "risk_free_stock.reset_index(inplace=True)\n",
    "risk_free_stock['Date'] = risk_free_stock['Date'].dt.date\n",
    "risk_free_stock = risk_free_stock[['Date', 'Close']]"
   ]
  },
  {
   "cell_type": "code",
   "execution_count": 32,
   "metadata": {},
   "outputs": [],
   "source": [
    "stock_information = pd.read_csv(PATH)\n",
    "separate_dfs = {}\n",
    "for column in stock_information.columns:\n",
    "    if column not in ['Date', 'diff', 'Prime']:\n",
    "        separate_dfs[column] = stock_information[['Date', column]].rename(columns={column: 'Close'})\n",
    "        separate_dfs[column] = separate_dfs[column].iloc[-252:]\n",
    "    "
   ]
  },
  {
   "cell_type": "code",
   "execution_count": 33,
   "metadata": {},
   "outputs": [
    {
     "data": {
      "text/plain": [
       "Date      object\n",
       "Close    float64\n",
       "dtype: object"
      ]
     },
     "execution_count": 33,
     "metadata": {},
     "output_type": "execute_result"
    }
   ],
   "source": [
    "risk_free_stock.dtypes"
   ]
  },
  {
   "cell_type": "code",
   "execution_count": 34,
   "metadata": {},
   "outputs": [],
   "source": [
    "# calculate the daily returns for each stock\n",
    "for key in separate_dfs:\n",
    "    separate_dfs[key]['Daily Returns'] = separate_dfs[key]['Close'].pct_change()\n",
    "    separate_dfs[key].dropna(inplace=True)\n",
    "    separate_dfs[key]['Date'] = pd.to_datetime(separate_dfs[key]['Date'])\n",
    "\n",
    "# calculate the daily returns for the risk free stock\n",
    "risk_free_stock['Daily Returns'] = risk_free_stock['Close'].pct_change()\n",
    "risk_free_stock.dropna(inplace=True)\n",
    "risk_free_stock['Date'] = pd.to_datetime(risk_free_stock['Date'])"
   ]
  },
  {
   "cell_type": "code",
   "execution_count": 35,
   "metadata": {},
   "outputs": [
    {
     "data": {
      "text/plain": [
       "Date             datetime64[ns]\n",
       "Close                   float64\n",
       "Daily Returns           float64\n",
       "dtype: object"
      ]
     },
     "execution_count": 35,
     "metadata": {},
     "output_type": "execute_result"
    }
   ],
   "source": [
    "separate_dfs['Maize Jul'].dtypes"
   ]
  },
  {
   "cell_type": "markdown",
   "metadata": {},
   "source": [
    "## Sharpe Ratio"
   ]
  },
  {
   "cell_type": "code",
   "execution_count": 36,
   "metadata": {},
   "outputs": [],
   "source": [
    "# subtract daily returns of risk free stock from daily returns of each stock, match the dates\n",
    "sharpe_dfs = {}\n",
    "for key in separate_dfs:\n",
    "    sharpe_dfs[key] = pd.merge(separate_dfs[key], risk_free_stock, on='Date', how='left')\n",
    "    sharpe_dfs[key]['Excess Returns'] = sharpe_dfs[key]['Daily Returns_x'] - sharpe_dfs[key]['Daily Returns_y']"
   ]
  },
  {
   "cell_type": "code",
   "execution_count": 37,
   "metadata": {},
   "outputs": [
    {
     "name": "stdout",
     "output_type": "stream",
     "text": [
      "Sharpe Ratio for Maize Mar: -1.349088299903418\n",
      "Sharpe Ratio for Maize May: -1.384392300292323\n",
      "Sharpe Ratio for Maize Jul: -1.4205865377067177\n",
      "Sharpe Ratio for Maize Sep: -1.3248755469378672\n",
      "Sharpe Ratio for Oats Mar: -0.9746272060767236\n",
      "Sharpe Ratio for Oats May: -1.0280654460066754\n",
      "Sharpe Ratio for Oats Jul: -0.9057002136514066\n",
      "Sharpe Ratio for Oats Sep: -0.9231922954440658\n",
      "Sharpe Ratio for Soybeans Mar: -1.5696991164446301\n",
      "Sharpe Ratio for Soybeans May: -1.5027798456972452\n",
      "Sharpe Ratio for Soybeans Jul: -1.4588263806585897\n",
      "Sharpe Ratio for Soybeans Sep: -1.3478167163800001\n",
      "Sharpe Ratio for Wheat Mar: -0.8546812691828882\n",
      "Sharpe Ratio for Wheat May: -0.8916929018523267\n",
      "Sharpe Ratio for Wheat Jul: -0.9786382504443876\n",
      "Sharpe Ratio for Wheat Sep: -1.0087996358251485\n"
     ]
    }
   ],
   "source": [
    "for key in sharpe_dfs:\n",
    "    print(f'Sharpe Ratio for {key}: {sharpe_dfs[key][\"Excess Returns\"].mean() / sharpe_dfs[key][\"Excess Returns\"].std() * np.sqrt(len(sharpe_dfs[key]))}')"
   ]
  },
  {
   "cell_type": "markdown",
   "metadata": {},
   "source": [
    "Negative Sharpe Ratio shows that it is unwise to invest in any of these stocks."
   ]
  },
  {
   "cell_type": "markdown",
   "metadata": {},
   "source": [
    "## Sortino Ratio"
   ]
  },
  {
   "cell_type": "markdown",
   "metadata": {},
   "source": [
    "Similar to Sharpe, with different normalization."
   ]
  },
  {
   "cell_type": "code",
   "execution_count": 38,
   "metadata": {},
   "outputs": [
    {
     "name": "stdout",
     "output_type": "stream",
     "text": [
      "Sortino Ratio for Maize Mar: -2.3979569244289363\n",
      "Sortino Ratio for Maize May: -2.3705700568236425\n",
      "Sortino Ratio for Maize Jul: -2.3393139577126525\n",
      "Sortino Ratio for Maize Sep: -2.215687062453782\n",
      "Sortino Ratio for Oats Mar: -1.4931529406880437\n",
      "Sortino Ratio for Oats May: -1.584773981079656\n",
      "Sortino Ratio for Oats Jul: -1.3795123867029842\n",
      "Sortino Ratio for Oats Sep: -1.4112165873647535\n",
      "Sortino Ratio for Soybeans Mar: -2.1627456810112187\n",
      "Sortino Ratio for Soybeans May: -1.9892199012523053\n",
      "Sortino Ratio for Soybeans Jul: -1.898851423916218\n",
      "Sortino Ratio for Soybeans Sep: -1.8208290925719466\n",
      "Sortino Ratio for Wheat Mar: -1.5935713710136574\n",
      "Sortino Ratio for Wheat May: -1.6499647919438283\n",
      "Sortino Ratio for Wheat Jul: -1.818541609483092\n",
      "Sortino Ratio for Wheat Sep: -1.8948227453162838\n"
     ]
    }
   ],
   "source": [
    "for key in sharpe_dfs:\n",
    "    sortino_ratio = sharpe_dfs[key]['Excess Returns'].mean() / sharpe_dfs[key]['Excess Returns'][sharpe_dfs[key]['Excess Returns'] < 0].std() * np.sqrt(len(sharpe_dfs[key]))\n",
    "    print(f'Sortino Ratio for {key}: {sortino_ratio}')\n"
   ]
  },
  {
   "cell_type": "markdown",
   "metadata": {},
   "source": [
    "## Beta"
   ]
  },
  {
   "cell_type": "markdown",
   "metadata": {},
   "source": [
    "Computing the beta of each stock"
   ]
  },
  {
   "cell_type": "code",
   "execution_count": 39,
   "metadata": {},
   "outputs": [],
   "source": [
    "market = yf.Ticker('^GSPC')\n",
    "market = market.history(period='5y')\n",
    "market.reset_index(inplace=True)\n",
    "market['Date'] = market['Date'].dt.date\n",
    "market = market[['Date', 'Close']]\n",
    "market['Daily Returns'] = market['Close'].pct_change()\n",
    "market.dropna(inplace=True)"
   ]
  },
  {
   "cell_type": "code",
   "execution_count": 40,
   "metadata": {},
   "outputs": [
    {
     "data": {
      "text/html": [
       "<div>\n",
       "<style scoped>\n",
       "    .dataframe tbody tr th:only-of-type {\n",
       "        vertical-align: middle;\n",
       "    }\n",
       "\n",
       "    .dataframe tbody tr th {\n",
       "        vertical-align: top;\n",
       "    }\n",
       "\n",
       "    .dataframe thead th {\n",
       "        text-align: right;\n",
       "    }\n",
       "</style>\n",
       "<table border=\"1\" class=\"dataframe\">\n",
       "  <thead>\n",
       "    <tr style=\"text-align: right;\">\n",
       "      <th></th>\n",
       "      <th>Date</th>\n",
       "      <th>Close</th>\n",
       "      <th>Daily Returns</th>\n",
       "    </tr>\n",
       "  </thead>\n",
       "  <tbody>\n",
       "    <tr>\n",
       "      <th>1</th>\n",
       "      <td>2019-11-05</td>\n",
       "      <td>3074.620117</td>\n",
       "      <td>-0.001186</td>\n",
       "    </tr>\n",
       "    <tr>\n",
       "      <th>2</th>\n",
       "      <td>2019-11-06</td>\n",
       "      <td>3076.780029</td>\n",
       "      <td>0.000702</td>\n",
       "    </tr>\n",
       "    <tr>\n",
       "      <th>3</th>\n",
       "      <td>2019-11-07</td>\n",
       "      <td>3085.179932</td>\n",
       "      <td>0.002730</td>\n",
       "    </tr>\n",
       "    <tr>\n",
       "      <th>4</th>\n",
       "      <td>2019-11-08</td>\n",
       "      <td>3093.080078</td>\n",
       "      <td>0.002561</td>\n",
       "    </tr>\n",
       "    <tr>\n",
       "      <th>5</th>\n",
       "      <td>2019-11-11</td>\n",
       "      <td>3087.010010</td>\n",
       "      <td>-0.001962</td>\n",
       "    </tr>\n",
       "    <tr>\n",
       "      <th>...</th>\n",
       "      <td>...</td>\n",
       "      <td>...</td>\n",
       "      <td>...</td>\n",
       "    </tr>\n",
       "    <tr>\n",
       "      <th>1253</th>\n",
       "      <td>2024-10-28</td>\n",
       "      <td>5823.520020</td>\n",
       "      <td>0.002651</td>\n",
       "    </tr>\n",
       "    <tr>\n",
       "      <th>1254</th>\n",
       "      <td>2024-10-29</td>\n",
       "      <td>5832.919922</td>\n",
       "      <td>0.001614</td>\n",
       "    </tr>\n",
       "    <tr>\n",
       "      <th>1255</th>\n",
       "      <td>2024-10-30</td>\n",
       "      <td>5813.669922</td>\n",
       "      <td>-0.003300</td>\n",
       "    </tr>\n",
       "    <tr>\n",
       "      <th>1256</th>\n",
       "      <td>2024-10-31</td>\n",
       "      <td>5705.450195</td>\n",
       "      <td>-0.018615</td>\n",
       "    </tr>\n",
       "    <tr>\n",
       "      <th>1257</th>\n",
       "      <td>2024-11-01</td>\n",
       "      <td>5728.799805</td>\n",
       "      <td>0.004093</td>\n",
       "    </tr>\n",
       "  </tbody>\n",
       "</table>\n",
       "<p>1257 rows × 3 columns</p>\n",
       "</div>"
      ],
      "text/plain": [
       "            Date        Close  Daily Returns\n",
       "1     2019-11-05  3074.620117      -0.001186\n",
       "2     2019-11-06  3076.780029       0.000702\n",
       "3     2019-11-07  3085.179932       0.002730\n",
       "4     2019-11-08  3093.080078       0.002561\n",
       "5     2019-11-11  3087.010010      -0.001962\n",
       "...          ...          ...            ...\n",
       "1253  2024-10-28  5823.520020       0.002651\n",
       "1254  2024-10-29  5832.919922       0.001614\n",
       "1255  2024-10-30  5813.669922      -0.003300\n",
       "1256  2024-10-31  5705.450195      -0.018615\n",
       "1257  2024-11-01  5728.799805       0.004093\n",
       "\n",
       "[1257 rows x 3 columns]"
      ]
     },
     "execution_count": 40,
     "metadata": {},
     "output_type": "execute_result"
    }
   ],
   "source": [
    "market"
   ]
  },
  {
   "cell_type": "markdown",
   "metadata": {},
   "source": [
    "## Treynor Ratio / Beta"
   ]
  },
  {
   "cell_type": "markdown",
   "metadata": {},
   "source": [
    "The beta statistic of a stock shows its behavior compared to the behavior of the market (such as S&P 500)."
   ]
  },
  {
   "cell_type": "code",
   "execution_count": 42,
   "metadata": {},
   "outputs": [
    {
     "name": "stdout",
     "output_type": "stream",
     "text": [
      "Beta for Maize Mar: 0.013062156325575952\n",
      "Beta for Maize May: 0.011652710836097452\n",
      "Beta for Maize Jul: 0.01009545513937746\n",
      "Beta for Maize Sep: 0.01110909696991195\n",
      "Beta for Oats Mar: 0.09868165958262176\n",
      "Beta for Oats May: 0.09924490268194855\n",
      "Beta for Oats Jul: 0.10994220146022665\n",
      "Beta for Oats Sep: 0.08053785982636645\n",
      "Beta for Soybeans Mar: 0.0025354826455161994\n",
      "Beta for Soybeans May: 0.004417310888908352\n",
      "Beta for Soybeans Jul: 0.004367596010293591\n",
      "Beta for Soybeans Sep: 0.0028206694071068864\n",
      "Beta for Wheat Mar: 0.044326910387352265\n",
      "Beta for Wheat May: 0.044120848669302416\n",
      "Beta for Wheat Jul: 0.045976875978192853\n",
      "Beta for Wheat Sep: 0.045617313837664916\n"
     ]
    }
   ],
   "source": [
    "jensen = {}\n",
    "jensen['beta'] = {}\n",
    "\n",
    "market_returns = market['Daily Returns']\n",
    "risk_free = sharpe_dfs['Maize Jul']['Daily Returns_y']  \n",
    "\n",
    "for key in sharpe_dfs:\n",
    "    # Prepare the data for excess returns\n",
    "    returns = sharpe_dfs[key]['Daily Returns_x']\n",
    "    jensen[key] = pd.concat([returns, risk_free, market_returns], axis=1)\n",
    "    \n",
    "    jensen[key].columns = ['Stock Returns', 'Risk-Free Returns', 'Market Returns']\n",
    "    jensen[key].dropna(inplace=True)\n",
    "\n",
    "    # Calculate beta using covariance\n",
    "    covariance = np.cov(jensen[key]['Stock Returns'], jensen[key]['Market Returns'])[0][1]\n",
    "    market_variance = np.var(jensen[key]['Market Returns'])\n",
    "    beta = covariance / market_variance if market_variance != 0 else np.nan\n",
    "    jensen['beta'][key] = beta\n",
    "\n",
    "    print(f'Beta for {key}: {beta}')\n",
    "    \n",
    "    \n"
   ]
  },
  {
   "cell_type": "markdown",
   "metadata": {},
   "source": [
    "The beta values are very low ($\\approx 0$), making the Treynor Ratio not informative."
   ]
  },
  {
   "cell_type": "markdown",
   "metadata": {},
   "source": [
    "## Jensen Alpha"
   ]
  },
  {
   "cell_type": "markdown",
   "metadata": {},
   "source": [
    "Jensen's alpha measures a portfolio's performance relative to its expected return under the Capital Asset Pricing Model (CAPM), given the portfolio’s risk (beta) and the market’s return. A positive alpha indicates that the portfolio outperformed its expected return, suggesting superior management or strategy, while a negative alpha suggests underperformance."
   ]
  },
  {
   "cell_type": "code",
   "execution_count": 43,
   "metadata": {},
   "outputs": [
    {
     "name": "stdout",
     "output_type": "stream",
     "text": [
      "Alpha for Maize Mar: -0.0010846890580419812\n",
      "Alpha for Maize May: -0.00103235066869714\n",
      "Alpha for Maize Jul: -0.0009847264275966831\n",
      "Alpha for Maize Sep: -0.0008063597123817832\n",
      "Alpha for Oats Mar: -0.0013395389410916958\n",
      "Alpha for Oats May: -0.0013740270750800083\n",
      "Alpha for Oats Jul: -0.0012412554348414252\n",
      "Alpha for Oats Sep: -0.001236962259796278\n",
      "Alpha for Soybeans Mar: -0.001074619219256402\n",
      "Alpha for Soybeans May: -0.0010102847520905675\n",
      "Alpha for Soybeans Jul: -0.0009615220444438624\n",
      "Alpha for Soybeans Sep: -0.0008092690182803176\n",
      "Alpha for Wheat Mar: -0.0009898469565548947\n",
      "Alpha for Wheat May: -0.0009650565381352522\n",
      "Alpha for Wheat Jul: -0.000953807645708811\n",
      "Alpha for Wheat Sep: -0.0009145521762382163\n"
     ]
    }
   ],
   "source": [
    "for key in jensen:\n",
    "    if key != 'beta':\n",
    "        alpha = jensen[key]['Stock Returns'].mean() - (jensen['beta'][key] * (jensen[key]['Market Returns'].mean() - jensen[key]['Risk-Free Returns'].mean()))\n",
    "        print(f'Alpha for {key}: {alpha}')"
   ]
  }
 ],
 "metadata": {
  "kernelspec": {
   "display_name": "Python 3",
   "language": "python",
   "name": "python3"
  },
  "language_info": {
   "codemirror_mode": {
    "name": "ipython",
    "version": 3
   },
   "file_extension": ".py",
   "mimetype": "text/x-python",
   "name": "python",
   "nbconvert_exporter": "python",
   "pygments_lexer": "ipython3",
   "version": "3.10.0"
  }
 },
 "nbformat": 4,
 "nbformat_minor": 2
}
