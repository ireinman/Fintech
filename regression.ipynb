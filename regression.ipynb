{
 "cells": [
  {
   "cell_type": "code",
   "execution_count": 1,
   "metadata": {},
   "outputs": [],
   "source": [
    "import pandas as pd\n",
    "from sklearn.model_selection import train_test_split\n",
    "from sklearn.linear_model import LinearRegression\n",
    "from sklearn.metrics import mean_squared_error\n",
    "import numpy as np"
   ]
  },
  {
   "cell_type": "code",
   "execution_count": 2,
   "metadata": {},
   "outputs": [],
   "source": [
    "commodities = ['Maize', 'Wheat', 'Oats', 'Soybeans']\n",
    "DATA_PATH = 'processed_data'\n",
    "Y_COLUMN = 'Sep'"
   ]
  },
  {
   "cell_type": "code",
   "execution_count": 3,
   "metadata": {},
   "outputs": [],
   "source": [
    "def train_and_evaluate(dataset, y_col):\n",
    "    X_cols = [col for col in dataset.columns if col not in {'Date', 'diff', y_col}]\n",
    "    X = dataset[X_cols]  # Features\n",
    "    y = dataset[y_col]  # Target variable\n",
    "    \n",
    "    # Train-test split (e.g., 80-20 split)\n",
    "    X_train, X_val, y_train, y_val = train_test_split(X, y, test_size=0.2, random_state=42)\n",
    "    \n",
    "    # Initialize and train the linear regression model\n",
    "    model = LinearRegression()\n",
    "    model.fit(X_train, y_train)\n",
    "    \n",
    "    # Make predictions on the validation set\n",
    "    y_pred = model.predict(X_val)\n",
    "    \n",
    "    # Calculate RMSE\n",
    "    rmse = np.sqrt(mean_squared_error(y_val, y_pred))\n",
    "    \n",
    "    return rmse"
   ]
  },
  {
   "cell_type": "code",
   "execution_count": 4,
   "metadata": {},
   "outputs": [
    {
     "name": "stdout",
     "output_type": "stream",
     "text": [
      "Maize Dataset: RMSE = 8.191477948042595\n",
      "Wheat Dataset: RMSE = 2.853719114024601\n",
      "Oats Dataset: RMSE = 10.214650130460038\n",
      "Soybeans Dataset: RMSE = 8.553362014365156\n"
     ]
    }
   ],
   "source": [
    "for commodity in commodities:\n",
    "    dataset = pd.read_csv(f'{DATA_PATH}/full_{commodity}.csv')\n",
    "    print(f'{commodity} Dataset: RMSE = {train_and_evaluate(dataset, Y_COLUMN)}')"
   ]
  },
  {
   "cell_type": "code",
   "execution_count": 5,
   "metadata": {},
   "outputs": [
    {
     "name": "stdout",
     "output_type": "stream",
     "text": [
      "Full Dataset prediction on (Maize Sep): RMSE = 5.409511363244579\n",
      "Full Dataset prediction on (Wheat Sep): RMSE = 2.3056764457775887\n",
      "Full Dataset prediction on (Oats Sep): RMSE = 6.6627769469946045\n",
      "Full Dataset prediction on (Soybeans Sep): RMSE = 7.467951507768843\n"
     ]
    }
   ],
   "source": [
    "dataset = pd.read_csv(f'{DATA_PATH}/full_dataset.csv')\n",
    "for commodity in commodities:\n",
    "    y_col = f'{commodity} {Y_COLUMN}'    \n",
    "    print(f'Full Dataset prediction on ({y_col}): RMSE = {train_and_evaluate(dataset, y_col)}')"
   ]
  }
 ],
 "metadata": {
  "kernelspec": {
   "display_name": "Python 3",
   "language": "python",
   "name": "python3"
  },
  "language_info": {
   "codemirror_mode": {
    "name": "ipython",
    "version": 3
   },
   "file_extension": ".py",
   "mimetype": "text/x-python",
   "name": "python",
   "nbconvert_exporter": "python",
   "pygments_lexer": "ipython3",
   "version": "3.12.0"
  }
 },
 "nbformat": 4,
 "nbformat_minor": 2
}
