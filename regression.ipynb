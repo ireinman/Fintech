{
 "cells": [
  {
   "cell_type": "code",
   "execution_count": 6,
   "metadata": {},
   "outputs": [],
   "source": [
    "import pandas as pd\n",
    "from sklearn.model_selection import train_test_split\n",
    "import numpy as np\n",
    "import statsmodels.api as sm\n",
    "from statsmodels.stats.anova import anova_lm\n",
    "from statsmodels.formula.api import ols"
   ]
  },
  {
   "cell_type": "code",
   "execution_count": 7,
   "metadata": {},
   "outputs": [],
   "source": [
    "commodities = ['Maize', 'Wheat', 'Oats', 'Soybeans']\n",
    "DATA_PATH = 'processed_data'\n",
    "Y_COLUMN = 'Sep'\n",
    "PROBLEM_PVALUE = 0.05"
   ]
  },
  {
   "cell_type": "code",
   "execution_count": 8,
   "metadata": {},
   "outputs": [],
   "source": [
    "def train_and_evaluate(dataset, y_col):\n",
    "    X_cols = [col for col in dataset.columns if col not in {'Date', 'diff', y_col}]\n",
    "    X = dataset[X_cols]\n",
    "    y = dataset[y_col]\n",
    "    \n",
    "    X_train, X_val, y_train, y_val = train_test_split(X, y, test_size=0.2, random_state=42)\n",
    "    \n",
    "    X_train_sm = sm.add_constant(X_train)\n",
    "    X_val_sm = sm.add_constant(X_val)\n",
    "\n",
    "    # Fit the OLS model\n",
    "    model = sm.OLS(y_train, X_train_sm)\n",
    "    results = model.fit()\n",
    "\n",
    "    # Print the summary, which includes p-values and ANOVA table\n",
    "    # print(f\"\\nRegression Summary for Dataset:\\n{}\")\n",
    "\n",
    "    # Make predictions on the validation set\n",
    "    y_pred = results.predict(X_val_sm)\n",
    "\n",
    "    # Calculate RMSE\n",
    "    rmse = np.sqrt(np.mean((y_val - y_pred) ** 2))\n",
    "\n",
    "    return rmse, results"
   ]
  },
  {
   "cell_type": "code",
   "execution_count": 9,
   "metadata": {},
   "outputs": [
    {
     "name": "stdout",
     "output_type": "stream",
     "text": [
      "Maize Dataset: RMSE = 8.1915, R^2 = 0.9906\n",
      "\n",
      "\n",
      "Wheat Dataset: RMSE = 2.8537, R^2 = 0.9996\n",
      "\n",
      "\n",
      "Oats Dataset: RMSE = 10.2147, R^2 = 0.9857\n",
      "Warning: Some features may not be significant ['May']\n",
      "\n",
      "\n",
      "Soybeans Dataset: RMSE = 8.5534, R^2 = 0.9972\n",
      "\n",
      "\n"
     ]
    }
   ],
   "source": [
    "for commodity in commodities:\n",
    "    dataset = pd.read_csv(f'{DATA_PATH}/full_{commodity}.csv')\n",
    "    rmse, results = train_and_evaluate(dataset, Y_COLUMN)\n",
    "    r_squared = results.rsquared\n",
    "    pvalues = results.pvalues\n",
    "    f_p_value = results.f_pvalue\n",
    "    print(f'{commodity} Dataset: RMSE = {'{:.4f}'.format(rmse)}, R^2 = {'{:.4f}'.format(r_squared)}')\n",
    "    if pvalues.max() > PROBLEM_PVALUE:\n",
    "        print('Warning: Some features may not be significant', list(pvalues[pvalues > PROBLEM_PVALUE].index))\n",
    "    if f_p_value > PROBLEM_PVALUE:\n",
    "        print('Warning: The model may not be significant', f_p_value)\n",
    "    # print(results.summary())\n",
    "    print('\\n')"
   ]
  },
  {
   "cell_type": "code",
   "execution_count": 10,
   "metadata": {},
   "outputs": [
    {
     "name": "stdout",
     "output_type": "stream",
     "text": [
      "Maize Sep Dataset: RMSE = 5.4095, R^2 = 0.9958\n",
      "Warning: Some features may not be significant ['const', 'Maize May', 'Oats Mar', 'Wheat Jul']\n",
      "\n",
      "\n",
      "Wheat Sep Dataset: RMSE = 2.3057, R^2 = 0.9997\n",
      "Warning: Some features may not be significant ['Maize Mar', 'Maize May', 'Maize Jul', 'Oats Mar', 'Soybeans Mar', 'Soybeans May', 'Prime']\n",
      "\n",
      "\n",
      "Oats Sep Dataset: RMSE = 6.6628, R^2 = 0.9937\n",
      "Warning: Some features may not be significant ['const', 'Oats Mar', 'Wheat May']\n",
      "\n",
      "\n",
      "Soybeans Sep Dataset: RMSE = 7.4680, R^2 = 0.9987\n",
      "Warning: Some features may not be significant ['Wheat Mar', 'Wheat May', 'Prime']\n",
      "\n",
      "\n"
     ]
    }
   ],
   "source": [
    "dataset = pd.read_csv(f'{DATA_PATH}/full_dataset.csv')\n",
    "for commodity in commodities:\n",
    "    y_col = f'{commodity} {Y_COLUMN}'  \n",
    "    rmse, results = train_and_evaluate(dataset, y_col)  \n",
    "    r_squared = results.rsquared\n",
    "    pvalues = results.pvalues.round(5)\n",
    "    f_p_value = results.f_pvalue.round(5)\n",
    "    print(f'{y_col} Dataset: RMSE = {'{:.4f}'.format(rmse)}, R^2 = {'{:.4f}'.format(r_squared)}')\n",
    "    if pvalues.max() > PROBLEM_PVALUE:\n",
    "        print('Warning: Some features may not be significant', list(pvalues[pvalues > PROBLEM_PVALUE].index))\n",
    "    if f_p_value > PROBLEM_PVALUE:\n",
    "        print('Warning: The model may not be significant', f_p_value)\n",
    "    # print(results.summary())\n",
    "    print('\\n')"
   ]
  }
 ],
 "metadata": {
  "kernelspec": {
   "display_name": "Python 3",
   "language": "python",
   "name": "python3"
  },
  "language_info": {
   "codemirror_mode": {
    "name": "ipython",
    "version": 3
   },
   "file_extension": ".py",
   "mimetype": "text/x-python",
   "name": "python",
   "nbconvert_exporter": "python",
   "pygments_lexer": "ipython3",
   "version": "3.12.0"
  }
 },
 "nbformat": 4,
 "nbformat_minor": 2
}
